{
 "cells": [
  {
   "cell_type": "markdown",
   "id": "6575d07e",
   "metadata": {},
   "source": [
    "# Bubble Sort Algorithm\n",
    "Given an array of N integers, write a program to implement the Bubble Sorting algorithm.\n",
    "\n",
    "Examples:\n",
    "\n",
    "Example 1:\n",
    "Input: N = 6, array[] = {13,46,24,52,20,9}\n",
    "Output: 9,13,20,24,46,52\n",
    "Explanation: After sorting we get 9,13,20,24,46,52\n",
    "\n",
    "\n",
    "Input: N = 5, array[] = {5,4,3,2,1}\n",
    "Output: 1,2,3,4,5\n",
    "Explanation: After sorting we get 1,2,3,4,5"
   ]
  },
  {
   "cell_type": "code",
   "execution_count": 4,
   "id": "524c5ee9",
   "metadata": {},
   "outputs": [
    {
     "data": {
      "text/plain": [
       "[9, 13, 20, 24, 46, 52]"
      ]
     },
     "execution_count": 4,
     "metadata": {},
     "output_type": "execute_result"
    }
   ],
   "source": [
    "def bubblesort(arr):\n",
    "    for i in range(len(arr)-1):\n",
    "        for j in range(len(arr)-1-i):\n",
    "            if arr[j]>arr[j+1]:\n",
    "                arr[j],arr[j+1] = arr[j+1],arr[j]\n",
    "\n",
    "    return arr\n",
    "\n",
    "arr = [13,46,24,52,20,9]\n",
    "bubblesort(arr)\n"
   ]
  },
  {
   "cell_type": "markdown",
   "id": "c55f7ccc",
   "metadata": {},
   "source": [
    "# Selection Sort Algorithm\n",
    "Given an array of N integers, write a program to implement the Selection sorting algorithm.\n",
    "\n",
    "Examples:\n",
    "\n",
    "Example 1:\n",
    "Input: N = 6, array[] = {13,46,24,52,20,9}\n",
    "Output: 9,13,20,24,46,52\n",
    "Explanation: After sorting the array is: 9, 13, 20, 24, 46, 52\n",
    "\n",
    "Example 2:\n",
    "Input: N=5, array[] = {5,4,3,2,1}\n",
    "Output: 1,2,3,4,5\n",
    "Explanation: After sorting the array is: 1, 2, 3, 4, 5"
   ]
  },
  {
   "cell_type": "code",
   "execution_count": 18,
   "id": "51c92762",
   "metadata": {},
   "outputs": [
    {
     "data": {
      "text/plain": [
       "[9, 13, 20, 24, 46, 52]"
      ]
     },
     "execution_count": 18,
     "metadata": {},
     "output_type": "execute_result"
    }
   ],
   "source": [
    "def selection_sort(arr):\n",
    "    n = len(arr)\n",
    "    for i in range(n-1):\n",
    "        min_index = i\n",
    "        for j in range(i,n):\n",
    "            if arr[j] < arr[min_index]:\n",
    "                min_index = j\n",
    "        arr[min_index],arr[i]=arr[i],arr[min_index]\n",
    "\n",
    "    return arr\n",
    "\n",
    "arr = [13,46,24,52,20,9]\n",
    "selection_sort(arr)"
   ]
  },
  {
   "cell_type": "markdown",
   "id": "1981bab4",
   "metadata": {},
   "source": [
    "# Insertion Sort Algorithm\n",
    "Given an array of N integers, write a program to implement the Insertion sorting algorithm.\n",
    "\n",
    "Examples:\n",
    "\n",
    "Example 1:\n",
    "Input: N = 6, array[] = {13,46,24,52,20,9}\n",
    "Output: 9,13,20,24,46,52\n",
    "Explanation: \n",
    "After sorting the array is: 9,13,20,24,46,52"
   ]
  },
  {
   "cell_type": "code",
   "execution_count": 19,
   "id": "4cca9b34",
   "metadata": {},
   "outputs": [
    {
     "data": {
      "text/plain": [
       "[9, 13, 20, 24, 46, 52]"
      ]
     },
     "execution_count": 19,
     "metadata": {},
     "output_type": "execute_result"
    }
   ],
   "source": [
    "def insertion_sort(arr):\n",
    "    n = len(arr)\n",
    "    for i in range(1,n):\n",
    "        currentCard = arr[i]\n",
    "        j = i-1\n",
    "        while j >=0:\n",
    "            if arr[j] < currentCard:\n",
    "                break\n",
    "            else:\n",
    "                arr[j+1] = arr[j]\n",
    "                j -= 1\n",
    "                arr[j+1] = currentCard\n",
    "    return arr\n",
    "\n",
    "arr = [13,46,24,52,20,9]\n",
    "insertion_sort(arr)\n"
   ]
  },
  {
   "cell_type": "markdown",
   "id": "b60cefcf",
   "metadata": {},
   "source": [
    "# Quick Sort Algorithm\n",
    "Given an array of n integers, sort the array using the Quicksort method.\n",
    "\n",
    "Examples:\n",
    "\n",
    "Example 1:\n",
    "Input:  N = 5  , Arr[] = {4,1,7,9,3}\n",
    "Output: 1 3 4 7 9 \n",
    "\n",
    "Explanation: After sorting the array becomes 1, 3, 4, 7, 9\n",
    "\n",
    "Example 2:\n",
    "Input: N = 8 , Arr[] = {4,6,2,5,7,9,1,3}\n",
    "Output: 1 2 3 4 5 6 7 9\n",
    "Explanation: After sorting the array becomes 1, 3, 4, 7, 9"
   ]
  },
  {
   "cell_type": "code",
   "execution_count": 27,
   "id": "b2627fca",
   "metadata": {},
   "outputs": [],
   "source": [
    "def quick_sort(arr,s,e):\n",
    "    if s < e:\n",
    "        pivotIndex = partition(arr,s,e)\n",
    "        quick_sort(arr,s,pivotIndex-1)\n",
    "        quick_sort(arr,pivotIndex+1,e)\n",
    "        return\n",
    "    \n",
    "def partition(arr,s,e):\n",
    "    pivat = arr[e]\n",
    "    i = s\n",
    "    rightposition = s\n",
    "    while i <= e-1:\n",
    "        if arr[i]<pivat:\n",
    "            rightposition+= 1\n",
    "        i+=1\n",
    "    arr[rightposition],arr[e]=arr[e],arr[rightposition]\n",
    "    pivatIndex = rightposition\n",
    "    start = s\n",
    "    end = e\n",
    "    while start < pivatIndex and pivatIndex < end:\n",
    "        if arr[start]<pivat:\n",
    "            start += 1\n",
    "        elif arr[end]>pivat:\n",
    "            end -=1\n",
    "        else:\n",
    "            arr[start],arr[end]=arr[end],arr[start]\n",
    "            start+=1\n",
    "            end -= 1\n",
    "    return pivatIndex\n",
    "\n",
    "arr = [13,46,24,52,20,9]\n",
    "s = 0\n",
    "e = 5\n",
    "quick_sort(arr,s,e)\n"
   ]
  },
  {
   "cell_type": "code",
   "execution_count": null,
   "id": "7870bbd4",
   "metadata": {},
   "outputs": [],
   "source": [
    "def quickSort(l1,s,e):\n",
    "        # code h\n",
    "        if(s>=e):\n",
    "            return\n",
    "        \n",
    "        pivotIndex = partition(l1,s,e)\n",
    "    \n",
    "        quickSort(l1,s,pivotIndex-1)\n",
    "        quickSort(l1,pivotIndex+1,e)\n",
    "        return \n",
    "     \n",
    "    \n",
    "def partition(l1,s,e):\n",
    "        # code here\n",
    "        pivot = l1[e]\n",
    "\n",
    "        i = s\n",
    "        rightPosition = s\n",
    "    \n",
    "        while(i <= e-1):\n",
    "            if(l1[i]<pivot):\n",
    "                rightPosition +=1\n",
    "            i+=1 \n",
    "        l1[rightPosition] , l1[e] = l1[e] , l1[rightPosition]\n",
    "        pivotIndex = rightPosition\n",
    "        # Now make sure that everything smaller than pivot to left and greater to right\n",
    "        start = s\n",
    "        end = e\n",
    "    \n",
    "        while(start<pivotIndex and end > pivotIndex):\n",
    "            if(l1[start]< pivot):\n",
    "                start+=1\n",
    "            elif(l1[end] >= pivot):\n",
    "                end-=1\n",
    "            else:\n",
    "                l1[start],l1[end] = l1[end], l1[start]\n",
    "                start+=1\n",
    "                end-=1\n",
    "        \n",
    "        return pivotIndex\n",
    "\n",
    "arr = [13,46,24,52,20,9]\n",
    "s = 0\n",
    "e = 5\n",
    "quick_sort(arr,s,e)"
   ]
  },
  {
   "cell_type": "code",
   "execution_count": null,
   "id": "1a730dec",
   "metadata": {},
   "outputs": [],
   "source": []
  }
 ],
 "metadata": {
  "kernelspec": {
   "display_name": "Python 3",
   "language": "python",
   "name": "python3"
  },
  "language_info": {
   "codemirror_mode": {
    "name": "ipython",
    "version": 3
   },
   "file_extension": ".py",
   "mimetype": "text/x-python",
   "name": "python",
   "nbconvert_exporter": "python",
   "pygments_lexer": "ipython3",
   "version": "3.13.3"
  }
 },
 "nbformat": 4,
 "nbformat_minor": 5
}
