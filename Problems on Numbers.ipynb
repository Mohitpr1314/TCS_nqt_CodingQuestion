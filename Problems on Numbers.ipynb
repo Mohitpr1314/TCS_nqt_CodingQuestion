{
 "cells": [
  {
   "cell_type": "markdown",
   "id": "82b62daa",
   "metadata": {},
   "source": [
    "# Palindrome Number\n",
    "\n",
    "You are given an integer n. You need to check whether the number is a palindrome number or not. Return true if it's a palindrome number, otherwise return false.\n",
    "\n",
    "A palindrome number is a number which reads the same both left to right and right to left.\n",
    "\n",
    "\n",
    "Examples:\n",
    "Input: n = 121\n",
    "\n",
    "Output: true\n",
    "\n",
    "Explanation: When read from left to right : 121.\n",
    "\n",
    "When read from right to left : 121.\n",
    "\n",
    "Input: n = 123\n",
    "\n",
    "Output: false\n",
    "\n",
    "Explanation: When read from left to right : 123.\n",
    "\n",
    "When read from right to left : 321."
   ]
  },
  {
   "cell_type": "code",
   "execution_count": 4,
   "id": "e8112bf2",
   "metadata": {},
   "outputs": [
    {
     "data": {
      "text/plain": [
       "True"
      ]
     },
     "execution_count": 4,
     "metadata": {},
     "output_type": "execute_result"
    }
   ],
   "source": [
    "def palindrom(n):\n",
    "    str = list(n)\n",
    "    low = 0\n",
    "    high = len(str) - 1\n",
    "    while low <= high:\n",
    "        if str[low] == str[high]:\n",
    "            low += 1\n",
    "            high -= 1\n",
    "        return True\n",
    "    return False\n",
    "\n",
    "n = 'dalad'\n",
    "palindrom(n)"
   ]
  },
  {
   "cell_type": "code",
   "execution_count": 6,
   "id": "4a7f19ef",
   "metadata": {},
   "outputs": [
    {
     "data": {
      "text/plain": [
       "False"
      ]
     },
     "execution_count": 6,
     "metadata": {},
     "output_type": "execute_result"
    }
   ],
   "source": [
    "def palindrom(n):\n",
    "    dup = n\n",
    "    rev = 0\n",
    "    while n>0:\n",
    "        rem = n%10\n",
    "        rev = (rev*10)+rem\n",
    "        n = n//10\n",
    "\n",
    "    if dup == rev:\n",
    "        return True\n",
    "    return False\n",
    "\n",
    "n = 129\n",
    "palindrom(n)"
   ]
  },
  {
   "cell_type": "markdown",
   "id": "bfa5dd7b",
   "metadata": {},
   "source": [
    "# Find all Palindrome Numbers in a given range\n",
    "Given a range of numbers, find all the palindrome numbers in the range.\n",
    "\n",
    "Note: A palindromic number is a number that remains the same when its digits are reversed.OR  a palindrome is a number that reads the same forward and backward Eg: 121,1221, 2552\n",
    "\n",
    "Examples:\n",
    "\n",
    "Example 1:\n",
    "Input: min = 10 , max = 50\n",
    "Output: 11 22 33 44 \n",
    "Explanation: 11, 22, 33, 44 will remain the same when they read from forward or backward.\n",
    "\n",
    "Example2:\n",
    "Input: min = 100 , max = 150\n",
    "Output: 101 111 121 131 141 \n",
    "Explanation: 11, 22, 33, 44 will remain the same when they read from forward or backward."
   ]
  },
  {
   "cell_type": "code",
   "execution_count": 9,
   "id": "23074c31",
   "metadata": {},
   "outputs": [
    {
     "data": {
      "text/plain": [
       "[101, 111, 121, 131, 141]"
      ]
     },
     "execution_count": 9,
     "metadata": {},
     "output_type": "execute_result"
    }
   ],
   "source": [
    "def checkpalindrom(min,max):\n",
    "    res = []\n",
    "    for i in range(min,max):\n",
    "        nums = palindrom(i)\n",
    "        if nums == True:\n",
    "            res.append(i)\n",
    "\n",
    "    return res\n",
    "\n",
    "min = 100\n",
    "max = 150\n",
    "checkpalindrom(min,max)\n"
   ]
  },
  {
   "cell_type": "markdown",
   "id": "15b4e989",
   "metadata": {},
   "source": [
    "# Check if a number is prime or not\n",
    "Given an integer N, check whether it is prime or not. A prime number is a number that is only divisible by 1 and itself and the total number of divisors is 2.\n",
    "\n",
    "Examples\n",
    "                Example 1:\n",
    "                Input:N = 2\n",
    "               \n",
    "                Output:True\n",
    "                \n",
    "                Explanation: 2 is a prime number because it has two divisors: 1 and 2 (the number itself).\n",
    "                                        \n",
    "                Example 2:\n",
    "                Input:N =10                \n",
    "                \n",
    "                Output: False\n",
    "                \n",
    "                Explanation: 10 is not prime, it is a composite number because it has 4 divisors: 1, 2, 5 and 10.     "
   ]
  },
  {
   "cell_type": "code",
   "execution_count": 8,
   "id": "fd96d970",
   "metadata": {},
   "outputs": [
    {
     "data": {
      "text/plain": [
       "False"
      ]
     },
     "execution_count": 8,
     "metadata": {},
     "output_type": "execute_result"
    }
   ],
   "source": [
    "def primeornot(n):\n",
    "    cnt = 0\n",
    "    for i in range(1,int(n**.5 + 1)):\n",
    "        if n%i == 0:\n",
    "            cnt += 1\n",
    "            if n//i != i:\n",
    "                cnt += 1\n",
    "    if cnt ==2:\n",
    "        return True\n",
    "    else:\n",
    "        return False\n",
    "    \n",
    "\n",
    "n = 4\n",
    "primeornot(n)\n"
   ]
  },
  {
   "cell_type": "markdown",
   "id": "1958f862",
   "metadata": {},
   "source": [
    "# Prime Numbers in a given range\n",
    "Given a and b, find prime numbers in a given range [a,b], (a and b are included here).\n",
    "\n",
    "Examples:\n",
    "\n",
    "Examples:\n",
    "Input: 2 10\n",
    "Output: 2 3 5 7 \n",
    "Explanation: Prime Numbers b/w 2 and 10 are 2,3,5 and 7.\n",
    "\n",
    "Example 2:\n",
    "Input: 10 16\n",
    "Output: 11 13 \n",
    "Explanation: Prime Numbers b/w 10 and 16 are 11 and 13."
   ]
  },
  {
   "cell_type": "code",
   "execution_count": 14,
   "id": "4fb2fb3e",
   "metadata": {},
   "outputs": [
    {
     "name": "stdout",
     "output_type": "stream",
     "text": [
      "[11, 13]\n"
     ]
    }
   ],
   "source": [
    "def primenumber(a):\n",
    "    res = []\n",
    "    for i in range(a[0],a[1]):\n",
    "        num = primeornot(i)\n",
    "        if num == True:\n",
    "            res.append(i)\n",
    "    return res\n",
    "        \n",
    "    \n",
    "# a = [2,10]\n",
    "a = [10,16]\n",
    "print(primenumber(a))"
   ]
  },
  {
   "cell_type": "markdown",
   "id": "1fe7f980",
   "metadata": {},
   "source": [
    "# Check if a number is Armstrong Number or not\n",
    "Given an integer N, return true it is an Armstrong number otherwise return false.\n",
    "\n",
    "An Amrstrong number is a number that is equal to the sum of its own digits each raised to the power of the number of digits.\n",
    "\n",
    "Examples\n",
    "                Example 1:\n",
    "                Input:N = 153\n",
    "               \n",
    "                Output:True\n",
    "                \n",
    "                Explanation: 1^3+5^3+3^3 = 1 + 125 + 27 = 153\n",
    "                                        \n",
    "                Example 2:\n",
    "                Input:N = 371                \n",
    "                \n",
    "                Output: True\n",
    "                \n",
    "                Explanation: 3^3+5^3+1^3 = 27 + 343 + 1 = 371"
   ]
  },
  {
   "cell_type": "code",
   "execution_count": 7,
   "id": "6cba19dc",
   "metadata": {},
   "outputs": [
    {
     "data": {
      "text/plain": [
       "True"
      ]
     },
     "execution_count": 7,
     "metadata": {},
     "output_type": "execute_result"
    }
   ],
   "source": [
    "def armstrong(n):\n",
    "    k = len(str(n))\n",
    "    ans = n\n",
    "    sum = 0\n",
    "    while n>0:\n",
    "        a = n%10\n",
    "        sum += a**k\n",
    "        n = n//10\n",
    "\n",
    "    if sum == ans:\n",
    "        return True\n",
    "    return False\n",
    "    \n",
    "n = 153\n",
    "armstrong(n)"
   ]
  },
  {
   "cell_type": "markdown",
   "id": "8f7a34a3",
   "metadata": {},
   "source": [
    "# Check whether a number is Perfect Number or not\n",
    "Perfect Number. Write a program to find whether a number is a perfect number or not.\n",
    "\n",
    "A perfect number is defined as a number that is the sum of its proper divisors ( all its positive divisors excluding itself). \n",
    "\n",
    "Examples:\n",
    "\n",
    "Example 1:\n",
    "Input: n=6\n",
    "Output: 6 is a perfect number\n",
    "\n",
    "Example 2:\n",
    "Input: n=15\n",
    "Output: 15 is not a perfect number\n",
    "\n",
    "Example 3:\n",
    "Input: n=28\n",
    "Output: 28 is a perfect number\n",
    "Reason:\n",
    "For 6 and 28 , the sum of their proper divisors (1+2+3) and (1+4+7+14) is equal to the respective numbers and for 15 it is not."
   ]
  },
  {
   "cell_type": "code",
   "execution_count": 16,
   "id": "1b78c5fc",
   "metadata": {},
   "outputs": [
    {
     "data": {
      "text/plain": [
       "True"
      ]
     },
     "execution_count": 16,
     "metadata": {},
     "output_type": "execute_result"
    }
   ],
   "source": [
    "def perfectnumber(n):\n",
    "    sum = 0\n",
    "    for i in range(1,n):\n",
    "        if n%i == 0:\n",
    "            sum += i\n",
    "    if sum == n:\n",
    "        return True\n",
    "    return False\n",
    "n=496\n",
    "perfectnumber(n)\n"
   ]
  },
  {
   "cell_type": "markdown",
   "id": "518b9c5f",
   "metadata": {},
   "source": [
    "# Check whether a given number is even or odd\n",
    "Given a number n, check whether a given number is even or odd.\n",
    "\n",
    "Examples:\n",
    "\n",
    "Example 1:\n",
    "Input: n=5\n",
    "Output: odd\n",
    "Explanation: 5 is not divisible by 2.\n",
    " \n",
    "Example 2:  \n",
    "Input: n=6\n",
    "Output: even\n",
    "Explanation: 6 is divisible by 2."
   ]
  },
  {
   "cell_type": "code",
   "execution_count": 18,
   "id": "f21c377b",
   "metadata": {},
   "outputs": [
    {
     "name": "stdout",
     "output_type": "stream",
     "text": [
      "Odd\n"
     ]
    }
   ],
   "source": [
    "def Evenorodd(n):\n",
    "    if n%2 == 0:\n",
    "        print('Even')\n",
    "    else:\n",
    "        print('Odd')\n",
    "\n",
    "n = 5\n",
    "Evenorodd(n)"
   ]
  },
  {
   "cell_type": "markdown",
   "id": "d57af6ef",
   "metadata": {},
   "source": [
    "# Check whether a number is positive or negative\n",
    "Given a number n check whether it's positive or negative.\n",
    "\n",
    "Examples:\n",
    "\n",
    "Example 1:\n",
    "Input: n=5\n",
    "Output: Positive\n",
    "\n",
    "Example2:\n",
    "Input: n=-6\n",
    "Output: Negative"
   ]
  },
  {
   "cell_type": "code",
   "execution_count": 23,
   "id": "b73d0a1c",
   "metadata": {},
   "outputs": [
    {
     "name": "stdout",
     "output_type": "stream",
     "text": [
      "Negative\n"
     ]
    }
   ],
   "source": [
    "def checknumber(n):\n",
    "    if n<0:\n",
    "        print('Negative')\n",
    "    else:\n",
    "        print('Positive')\n",
    "\n",
    "n= -9\n",
    "checknumber(n)"
   ]
  },
  {
   "cell_type": "markdown",
   "id": "2e9930a0",
   "metadata": {},
   "source": [
    "# Sum of first N Natural Numbers\n",
    "Given a number ‘N’, find out the sum of the first N natural numbers.\n",
    "\n",
    "Examples:\n",
    "\n",
    "Example 1:\n",
    "Input: N=5\n",
    "Output: 15\n",
    "Explanation: 1+2+3+4+5=15\n",
    "\n",
    "Example 2:\n",
    "Input: N=6\n",
    "Output: 21\n",
    "Explanation: 1+2+3+4+5+6=15"
   ]
  },
  {
   "cell_type": "code",
   "execution_count": 25,
   "id": "6ec1c979",
   "metadata": {},
   "outputs": [
    {
     "data": {
      "text/plain": [
       "55"
      ]
     },
     "execution_count": 25,
     "metadata": {},
     "output_type": "execute_result"
    }
   ],
   "source": [
    "def naturalSum(n):\n",
    "    ans = n*(n+1)//2\n",
    "    return ans\n",
    "\n",
    "n = 10\n",
    "naturalSum(n)"
   ]
  },
  {
   "cell_type": "markdown",
   "id": "8ba8a88e",
   "metadata": {},
   "source": [
    "# Find Sum of AP Series\n",
    "Given an A.P. Series, we need to find the sum of the Series.\n",
    "\n",
    "a = first term of A.P.\n",
    "\n",
    "d= common Difference of A.P.\n",
    "\n",
    "n= Number of Terms in  A.P.\n",
    "\n",
    "Examples:\n",
    "\n",
    "Example 1:\n",
    "Input:\n",
    "n=4\n",
    "a=2\n",
    "d=2\n",
    "Output: 20\n",
    "Explanation: 2+4+6+8 = 20\n",
    "\n",
    "Input:\n",
    "n=8\n",
    "a=2\n",
    "d=5\n",
    "Output: 124\n",
    "Explanation: -2 +3 + 8 + 13 + 18 + 23 + 28 + 33 = 124\n",
    "\n",
    "What is A.P. (Arithmetic Progression)?\n",
    "\n",
    "A.P. is the series of terms having the first term as a and d, common difference. Every next term in the A.P. is greater than the previous term by d units.\n",
    "\n",
    "Example - \n",
    "\n",
    "-2, 3 , 8 , 13 , 18 , 23 , 28 , 33\n",
    "\n",
    "First term , a = - 2\n",
    "\n",
    "Common Difference , d=5\n",
    "\n",
    "Last term , an=33\n",
    "\n",
    "![image.png](https://lh6.googleusercontent.com/6rLcH4xUQqsXsrzrBTyqCmWbI6tqVaoyeLBW13Su8UuBoyzyDfAp5rupr6VK-I0AgoJEkIUa3mplhqe4sRWAzYK_eeva45M1liBUTDwuhgM-fRqZzmVHYM7z7BaRDVwvBsagT5NT)\n"
   ]
  },
  {
   "cell_type": "code",
   "execution_count": 27,
   "id": "42a61322",
   "metadata": {},
   "outputs": [
    {
     "data": {
      "text/plain": [
       "20"
      ]
     },
     "execution_count": 27,
     "metadata": {},
     "output_type": "execute_result"
    }
   ],
   "source": [
    "def sumofAp(a,n,d):\n",
    "    ans = (n*(2*a +(n-1)*d))//2\n",
    "    return ans\n",
    "\n",
    "a = 2\n",
    "d = 2\n",
    "n = 4\n",
    "sumofAp(a,n,d)"
   ]
  },
  {
   "attachments": {
    "image.png": {
     "image/png": "[encoded data removed]"
    }
   },
   "cell_type": "markdown",
   "id": "5a76d5e7",
   "metadata": {},
   "source": [
    "# Program to find Sum of GP Series\n",
    "Given a geometric Progression (G.P) sequence with some inputs as:-\n",
    "\n",
    "a, first term\n",
    "r, common ratio\n",
    "n, number of terms\n",
    " Write a program to find the sum of the geometric Progression Series.\n",
    "\n",
    "Examples:\n",
    "\n",
    "Example 1:\n",
    "Input: a=1 , r=0.5 , n=3\n",
    "Output: 1.75\n",
    "Explanation: The sum of given GP Series is 1.75\n",
    "\n",
    "Example 2:\n",
    "Input: a=3 , r=5 , n=2\n",
    "Output: 18\n",
    "Explanation: The sum of the given GP Series is 18\n",
    "\n",
    "![image.png](attachment:image.png)"
   ]
  },
  {
   "cell_type": "code",
   "execution_count": 29,
   "id": "960ddc61",
   "metadata": {},
   "outputs": [
    {
     "data": {
      "text/plain": [
       "1.75"
      ]
     },
     "execution_count": 29,
     "metadata": {},
     "output_type": "execute_result"
    }
   ],
   "source": [
    "def sumofGp(a,r,n):\n",
    "    ans = a*(r**n -1)/(r-1)\n",
    "    return ans\n",
    "\n",
    "a = 1\n",
    "r = 0.5\n",
    "n = 3\n",
    "sumofGp(a,r,n)"
   ]
  },
  {
   "cell_type": "markdown",
   "id": "04eb44dd",
   "metadata": {},
   "source": [
    "# Greatest of two numbers\n",
    "Given two numbers. Find the greatest of two numbers.\n",
    "\n",
    "Examples:\n",
    "\n",
    "Example 1:\n",
    "Input: 1 3\n",
    "Output: 3\n",
    "Explanation: Answer is 3,since 3 is greater than 1.\n",
    "\n",
    "Input: 1.123  1.124\n",
    "Output: 1.124\n",
    "Explanation: Answer is 1.124,since 1.124 is greater than 1.123."
   ]
  },
  {
   "cell_type": "code",
   "execution_count": 30,
   "id": "d577d0b3",
   "metadata": {},
   "outputs": [
    {
     "data": {
      "text/plain": [
       "3"
      ]
     },
     "execution_count": 30,
     "metadata": {},
     "output_type": "execute_result"
    }
   ],
   "source": [
    "def greatest(a,b):\n",
    "    if a < b:\n",
    "        return b\n",
    "    else:\n",
    "        a\n",
    "\n",
    "a = 1\n",
    "b = 3\n",
    "greatest(a,b)"
   ]
  },
  {
   "cell_type": "markdown",
   "id": "4d60382d",
   "metadata": {},
   "source": [
    "# Greatest of three numbers\n",
    "Given three numbers. Find the greatest of three numbers.\n",
    "\n",
    "Examples:\n",
    "\n",
    "Example 1:\n",
    "Input: 1 3 5\n",
    "Output: 5\n",
    "Explanation: Answer is 5.Since 5 is greater than 1 and 3.\n",
    "\n",
    "Example 2:\n",
    "Input: 1.123  1.124 1.125\n",
    "Output: 1.125\n",
    "Explanation: Answer is 1.125. Since 1.125 is greater than 1.123 and 1.124"
   ]
  },
  {
   "cell_type": "code",
   "execution_count": 34,
   "id": "84ca9810",
   "metadata": {},
   "outputs": [
    {
     "data": {
      "text/plain": [
       "9"
      ]
     },
     "execution_count": 34,
     "metadata": {},
     "output_type": "execute_result"
    }
   ],
   "source": [
    "def greatestabc(a,b,c):\n",
    "    if a < b:\n",
    "        if b < c:\n",
    "            return c\n",
    "        else:\n",
    "            return b\n",
    "    else:\n",
    "        if a<c:\n",
    "            return c\n",
    "        else:\n",
    "            return a\n",
    "        \n",
    "\n",
    "a = 9\n",
    "b= 8\n",
    "c = 5\n",
    "greatestabc(a,b,c)\n",
    "\n",
    "\n"
   ]
  },
  {
   "cell_type": "markdown",
   "id": "4e53ccc3",
   "metadata": {},
   "source": [
    "# Check if given year is a leap year or not\n",
    "\n",
    "In this post we will solve the problem \"Check if given year is a leap year or not\".\n",
    "\n",
    "Problem Statement: Check if the given year is a leap year or not.\n",
    "\n",
    "Examples:\n",
    "\n",
    "Example 1:\n",
    "Input: 1996\n",
    "Output: Yes\n",
    "Explanation: Since 1996 is a leap year answer is “Yes”.\n",
    "\n",
    "Example 2:\n",
    "Input: 2000\n",
    "Output: Yes\n",
    "\n",
    "Explanation: Since 2000 is a leap year answer is “Yes”."
   ]
  },
  {
   "cell_type": "code",
   "execution_count": 38,
   "id": "afab9121",
   "metadata": {},
   "outputs": [
    {
     "name": "stdout",
     "output_type": "stream",
     "text": [
      "True\n"
     ]
    }
   ],
   "source": [
    "def leapyear(year):\n",
    "    if year % 400 == 0:\n",
    "        return True\n",
    "    if year % 100 == 0:\n",
    "        return False\n",
    "    if year % 4 == 0:\n",
    "        return True\n",
    "    return False\n",
    "\n",
    "year = 2000\n",
    "print(leapyear(year)) "
   ]
  },
  {
   "cell_type": "markdown",
   "id": "b4bc625d",
   "metadata": {},
   "source": [
    "# Reverse digits of a number\n",
    "Given an integer. Write a program to reverse digits of a number.\n",
    "\n",
    "Examples:\n",
    "\n",
    "Example 1:\n",
    "Input: N = 472\n",
    "Output: 274\n",
    "Explanation: Reading the number from back to front, we see that the output should be 274\n",
    "\n",
    "Example 2:\n",
    "Input: N = 470\n",
    "Output: 74\n",
    "Explanation: Reading the number from back to front, we get 074. For an integer with no decimals, we know that leading zeros have no significance and therefore our answer should be 74"
   ]
  },
  {
   "cell_type": "code",
   "execution_count": 40,
   "id": "cc4753d7",
   "metadata": {},
   "outputs": [
    {
     "data": {
      "text/plain": [
       "74"
      ]
     },
     "execution_count": 40,
     "metadata": {},
     "output_type": "execute_result"
    }
   ],
   "source": [
    "def reverse(num):\n",
    "    rev = 0\n",
    "    while num>0:\n",
    "        a = num%10\n",
    "        rev = rev*10 + a\n",
    "        num = num//10\n",
    "\n",
    "    return rev\n",
    "\n",
    "num = 470\n",
    "reverse(num)"
   ]
  },
  {
   "cell_type": "markdown",
   "id": "151a3a98",
   "metadata": {},
   "source": [
    "# Maximum and Minimum Digit in a Number\n",
    "Given a number N, print the smallest and largest digits present in the number.\n",
    "\n",
    "Examples:\n",
    "\n",
    "Example 1:\n",
    "Input: N = 2746\n",
    "Output: Largest digit: 7\n",
    "        Smallest digit: 2\n",
    "Explanation: By simply going through the digits of \n",
    "the number, we figure out the largest and smallest \n",
    "digit in the number.\n",
    "\n",
    "Example 2:\n",
    "Input: N = 23004\n",
    "Output: Largest digit : 4\n",
    "        Smallest digit : 0\n",
    "Explanation: By simply going through the digits of \n",
    "the number, we figure out the largest and smallest \n",
    "digit in the number."
   ]
  },
  {
   "cell_type": "code",
   "execution_count": 44,
   "id": "6923dbbb",
   "metadata": {},
   "outputs": [
    {
     "data": {
      "text/plain": [
       "'min val: 0, max val: 4'"
      ]
     },
     "execution_count": 44,
     "metadata": {},
     "output_type": "execute_result"
    }
   ],
   "source": [
    "def minmax(n):\n",
    "    min_value = float('inf')\n",
    "    max_value = float('-inf')\n",
    "    while n > 0:\n",
    "        a = n%10\n",
    "        min_value = min(min_value,a)\n",
    "        max_value = max(max_value,a)\n",
    "        n = n//10\n",
    "    return f'min val: {min_value}, max val: {max_value}'\n",
    "\n",
    "n = 23004\n",
    "minmax(n)"
   ]
  },
  {
   "cell_type": "markdown",
   "id": "063d6a28",
   "metadata": {},
   "source": [
    "# Print Fibonacci Series up to Nth term\n",
    "Given an integer N. Print the Fibonacci series up to the Nth term.\n",
    "\n",
    "Examples:\n",
    "\n",
    "Example 1:\n",
    "Input: N = 5\n",
    "Output: 0 1 1 2 3 5\n",
    "Explanation: 0 1 1 2 3 5 is the fibonacci series up to 5th term.(0 based indexing)\n",
    "\n",
    "Example 2:\n",
    "Input: 6\n",
    "\n",
    "Output: 0 1 1 2 3 5 8\n",
    "Explanation: 0 1 1 2 3 5 8 is the fibonacci series upto 6th term.(o based indexing)"
   ]
  },
  {
   "cell_type": "code",
   "execution_count": 46,
   "id": "51501de1",
   "metadata": {},
   "outputs": [
    {
     "data": {
      "text/plain": [
       "8"
      ]
     },
     "execution_count": 46,
     "metadata": {},
     "output_type": "execute_result"
    }
   ],
   "source": [
    "def fibo(n):\n",
    "    if n == 0:\n",
    "        return 0\n",
    "    if n == 1:\n",
    "        return 1\n",
    "    return fibo(n-1) + fibo(n-2)\n",
    "\n",
    "n = 6\n",
    "fibo(n)"
   ]
  },
  {
   "cell_type": "code",
   "execution_count": 49,
   "id": "e356543d",
   "metadata": {},
   "outputs": [
    {
     "data": {
      "text/plain": [
       "[0, 1, 1, 2, 3, 5]"
      ]
     },
     "execution_count": 49,
     "metadata": {},
     "output_type": "execute_result"
    }
   ],
   "source": [
    "def fibseries(num):\n",
    "    res = []\n",
    "    for i in range(num):\n",
    "        nu = fibo(i)\n",
    "        res.append(nu)\n",
    "\n",
    "    return res\n",
    "    \n",
    "num = 6\n",
    "fibseries(num)"
   ]
  },
  {
   "cell_type": "markdown",
   "id": "d047399b",
   "metadata": {},
   "source": [
    "# Factorial of a Number : Iterative and Recursive\n",
    "Given a number X,  print its factorial.\n",
    "\n",
    "To obtain the factorial of a number, it has to be multiplied by all the whole numbers preceding it. More precisely X! = X*(X-1)*(X-2) … 1.\n",
    "\n",
    "Note: X  is always a positive number. \n",
    "\n",
    "Examples:\n",
    "\n",
    "Example 1:\n",
    "Input: X = 5\n",
    "Output: 120\n",
    "Explanation: 5! = 5*4*3*2*1\n",
    "\n",
    "Example 2:\n",
    "Input: X = 3\n",
    "Output: 6\n",
    "Explanation: 3!=3*2*1"
   ]
  },
  {
   "cell_type": "code",
   "execution_count": 50,
   "id": "792946c6",
   "metadata": {},
   "outputs": [
    {
     "data": {
      "text/plain": [
       "120"
      ]
     },
     "execution_count": 50,
     "metadata": {},
     "output_type": "execute_result"
    }
   ],
   "source": [
    "def fact(n):\n",
    "    if n == 0 or n == 1:\n",
    "        return 1\n",
    "    \n",
    "    return n*fact(n-1)\n",
    "\n",
    "n = 5\n",
    "fact(n)\n",
    "    "
   ]
  },
  {
   "cell_type": "markdown",
   "id": "52c56c95",
   "metadata": {},
   "source": [
    "# Calculate the Power of a Number : Binary Exponentiation\n",
    "Given a number N, return all primes till N.\n",
    "\n",
    "Examples\n",
    "                Example 1:\n",
    "                Input:x = 2, n = 5\n",
    "               \n",
    "                Output:32\n",
    "                \n",
    "                Explanation: Calculate pow(2, 5) = 25 = 2*2*2*2*2 = 32\n",
    "                                        \n",
    "                Example 2:\n",
    "                Input:x = 21, n = 2                \n",
    "                \n",
    "                Output: 441\n",
    "                \n",
    "                Explanation:  Calculate pow(21, 2) = 212 = 21*21 = 441                            "
   ]
  },
  {
   "cell_type": "code",
   "execution_count": 54,
   "id": "aff169b8",
   "metadata": {},
   "outputs": [
    {
     "data": {
      "text/plain": [
       "3"
      ]
     },
     "execution_count": 54,
     "metadata": {},
     "output_type": "execute_result"
    }
   ],
   "source": [
    "def power(num,n):\n",
    "    if n == 0:\n",
    "        return 1\n",
    "    if n == 1:\n",
    "        return num\n",
    "    \n",
    "    return num**n\n",
    "\n",
    "num = 3\n",
    "n = 1\n",
    "power(num,n)"
   ]
  },
  {
   "cell_type": "markdown",
   "id": "3a2ea445",
   "metadata": {},
   "source": [
    "# Factors of a Given Number\n",
    "\n",
    "Find all factors of a number or find all distinct divisors of a natural number.\n",
    "\n",
    "Examples:\n",
    "\n",
    "Example 1:\n",
    "Input: n = 6\n",
    "Output: 1,2,3,6\n",
    "Explanation: 6 is divisible by 1,2,3,6\n",
    "\n",
    "Example 2:\n",
    "Input: n = 9\n",
    "Output: 1,3,9\n",
    "Explanation: 9 is divisible by 1,3,9"
   ]
  },
  {
   "cell_type": "code",
   "execution_count": 60,
   "id": "c5ef7c91",
   "metadata": {},
   "outputs": [
    {
     "data": {
      "text/plain": [
       "[1, 2, 5, 10]"
      ]
     },
     "execution_count": 60,
     "metadata": {},
     "output_type": "execute_result"
    }
   ],
   "source": [
    "def factor(n):\n",
    "    res = []\n",
    "    for i in range(1,n+1):\n",
    "        if n%i == 0:\n",
    "            res.append(i)\n",
    "\n",
    "    return res\n",
    "\n",
    "n = 10\n",
    "factor(n)"
   ]
  },
  {
   "cell_type": "markdown",
   "id": "55309934",
   "metadata": {},
   "source": [
    "# Print all Prime Factors of the given number\n",
    " Given an integer N, print all of its prime factors.\n",
    "\n",
    "Examples\n",
    "                 Example 1:\n",
    "\n",
    "                Input: N=60\n",
    "                   \n",
    "                Output: 2, 3, 5\n",
    "                \n",
    "                Explanation: All factors/divisors of 60 include: 1, 2, 3, 4, 5, 6, 10, 12, 18, 20, 30, 60. Out of these only 2, 3 and 5 are prime.                \n",
    "                \n",
    "                Example 2:\n",
    "\n",
    "                Input: N=35\n",
    "                       \n",
    "                Output: 5, 7\n",
    "                \n",
    "                Explanation: All factors/divisors of 35 include: 1, 5, 7, 35. Out of these, only 5 and 7 are prime.\n",
    "                "
   ]
  },
  {
   "cell_type": "code",
   "execution_count": 61,
   "id": "da8701c9",
   "metadata": {},
   "outputs": [
    {
     "data": {
      "text/plain": [
       "[5, 7]"
      ]
     },
     "execution_count": 61,
     "metadata": {},
     "output_type": "execute_result"
    }
   ],
   "source": [
    "def prime_factor(n):\n",
    "    factor = []\n",
    "    for i in range(2,n+1):\n",
    "        if n%i == 0:\n",
    "            factor.append(i)\n",
    "            while n%i == 0:\n",
    "                n = n//i\n",
    "\n",
    "    return factor\n",
    "\n",
    "n = 35\n",
    "prime_factor(n)\n"
   ]
  },
  {
   "cell_type": "markdown",
   "id": "e5748126",
   "metadata": {},
   "source": [
    "# Check if a number is a Strong Number or not\n",
    "Given an integer Print “YES” if it is a strong number else print “NO”.\n",
    "\n",
    "Note : \n",
    "\n",
    "When the sum of factorial of individual digits of a number is equal to the original number the number is called a strong number. \n",
    "Strong number is also known as Krishnamurthi number/Peterson Number.\n",
    "Examples:\n",
    "\n",
    "Examples 1:\n",
    "Input: N = 145\n",
    "Output: Yes\n",
    "Explanation: 1! + 4! + 5! = 145. Hence 145 is a strong number. \n",
    "\n",
    "Example 2:\n",
    "Input:  26\n",
    "Output: No\n",
    "Explanation: 2! + 6! = 722. Hence 26 is not a strong number."
   ]
  },
  {
   "cell_type": "code",
   "execution_count": 10,
   "id": "711b5967",
   "metadata": {},
   "outputs": [
    {
     "data": {
      "text/plain": [
       "False"
      ]
     },
     "execution_count": 10,
     "metadata": {},
     "output_type": "execute_result"
    }
   ],
   "source": [
    "def fect(n):\n",
    "    if n == 0 or n ==1:\n",
    "        return 1\n",
    "    \n",
    "    return n*fect(n-1)\n",
    "\n",
    "\n",
    "\n",
    "def strong(num):\n",
    "    dup = num\n",
    "    sum = 0\n",
    "    while num != 0:\n",
    "        d = num%10\n",
    "        sum += fect(d)\n",
    "        num = num//10\n",
    "\n",
    "    return sum == dup\n",
    "    \n",
    "# num = 40585\n",
    "num = 2\n",
    "num =7\n",
    "strong(num)"
   ]
  },
  {
   "cell_type": "markdown",
   "id": "e7d1d301",
   "metadata": {},
   "source": [
    "# Check if a number is Automorphic Number\n",
    "Given a number, check if it is automorphic or not. A number is called an Automorphic number if and only if its square ends in the same digits as the number itself.\n",
    "\n",
    "Examples:\n",
    "\n",
    "Example 1:\n",
    "Input Format: N = 76\n",
    "Result: Automorphic Number\n",
    "Explanation: Calculating 76 * 76 gives 5776, it ends with the given number.\n",
    "\n",
    "Input Format: 25\n",
    "Result: Automorphic Number\n",
    "Explanation: Calculating 25 * 25 gives 625, it ends with the given number."
   ]
  },
  {
   "cell_type": "code",
   "execution_count": null,
   "id": "f4c44545",
   "metadata": {},
   "outputs": [
    {
     "data": {
      "text/plain": [
       "True"
      ]
     },
     "execution_count": 14,
     "metadata": {},
     "output_type": "execute_result"
    }
   ],
   "source": [
    "def automorphic(num):\n",
    "    sq = num*num\n",
    "    while num>0:\n",
    "        if num%10 != sq%10:\n",
    "            return False\n",
    "        num = num//10\n",
    "        sq = sq//10\n",
    "    return True\n",
    "\n",
    "num = 76\n",
    "automorphic(num)\n",
    "    "
   ]
  },
  {
   "cell_type": "markdown",
   "id": "6e768f55",
   "metadata": {},
   "source": [
    "# Find GCD of two numbers\n",
    "Given two integers N1 and N2, find their greatest common divisor.\n",
    "\n",
    "The Greatest Common Divisor of any two integers is the largest number that divides both integers.\n",
    "\n",
    "Examples\n",
    "                Example 1:\n",
    "                Input:N1 = 9, N2 = 12\n",
    "                \n",
    "                \n",
    "                Output:3\n",
    "                Explanation:Factors of 9: 1, 3 and 9\n",
    "                Factors of 12: 1, 2, 3, 4, 6, 12\n",
    "                Common Factors: 1, 3 out of which 3 is the greatest hence it is the GCD.\n",
    "\n",
    "\n",
    "\n",
    "                                \n",
    "                Example 2:\n",
    "                Input:N1 = 20, N2 = 15\n",
    "                \n",
    "                \n",
    "                Output: 5\n",
    "                Explanation:Factors of 20: 1, 2, 4, 5\n",
    "                Factors of 15: 1, 3, 5\n",
    "                Common Factors: 1, 5 out of which 5 is the greatest hence it is the GCD."
   ]
  },
  {
   "cell_type": "code",
   "execution_count": 15,
   "id": "5d4bec33",
   "metadata": {},
   "outputs": [
    {
     "data": {
      "text/plain": [
       "5"
      ]
     },
     "execution_count": 15,
     "metadata": {},
     "output_type": "execute_result"
    }
   ],
   "source": [
    "def gcd(a,b):\n",
    "    if b == 0:\n",
    "        return a\n",
    "    return gcd(b,a%b)\n",
    "\n",
    "\n",
    "a = 10\n",
    "b = 15\n",
    "gcd(a,b)"
   ]
  },
  {
   "cell_type": "markdown",
   "id": "eb0b6c9d",
   "metadata": {},
   "source": [
    "# Find LCM of two numbers\n",
    "Find lcm of two numbers.\n",
    "\n",
    "Examples:\n",
    "\n",
    "Example 1:\n",
    "Input: num1 = 4,num2 = 8\n",
    "Output: 8\n",
    "\n",
    "\n",
    "Example 2:\n",
    "Input: num1 = 3,num2 = 6\n",
    "Output: 6"
   ]
  },
  {
   "cell_type": "code",
   "execution_count": null,
   "id": "844f0c07",
   "metadata": {},
   "outputs": [
    {
     "data": {
      "text/plain": [
       "8"
      ]
     },
     "execution_count": 16,
     "metadata": {},
     "output_type": "execute_result"
    }
   ],
   "source": [
    "def lcm(a,b):\n",
    "    greater = max(a,b)\n",
    "    while True:\n",
    "        if greater % a == 0 and greater % b == 0:\n",
    "            return greater\n",
    "        greater += 1\n",
    "\n",
    "a = 4\n",
    "b = 8\n",
    "lcm(a,b)"
   ]
  },
  {
   "cell_type": "markdown",
   "id": "947bd7bf",
   "metadata": {},
   "source": [
    "# Check if the given number is Harshad(Or Niven) Number\n",
    "Check if the number is a Harshad(or Niven) number or not.\n",
    "\n",
    "Examples:\n",
    "\n",
    "Example 1:\n",
    "Input: 378\n",
    "Output: Yes it is a Harshad number.\n",
    "Explanation: 3+7+8=18. 378 is divisible by 18. Therefore 378 is a harshad number.\n",
    "\n",
    "Example 2:\n",
    "Input: 379\n",
    "Output: No\n",
    " it is not a Harshad number.\n",
    "Explanation: 3+7+9=19. 379 is not divisible by 19. Therefore 379 is a harshad number."
   ]
  },
  {
   "cell_type": "code",
   "execution_count": 18,
   "id": "3d0ace63",
   "metadata": {},
   "outputs": [
    {
     "data": {
      "text/plain": [
       "False"
      ]
     },
     "execution_count": 18,
     "metadata": {},
     "output_type": "execute_result"
    }
   ],
   "source": [
    "def harshad(num):\n",
    "    sum = 0\n",
    "    div = num\n",
    "    while num>0:\n",
    "        a = num%10\n",
    "        sum += a\n",
    "        num = num//10\n",
    "\n",
    "    return div % sum == 0\n",
    "\n",
    "num = 379\n",
    "harshad(num)"
   ]
  },
  {
   "cell_type": "markdown",
   "id": "d54cba28",
   "metadata": {},
   "source": [
    "# Check if the number is an abundant number or not\n",
    "Check if the number is an abundant number or not.\n",
    "\n",
    "Examples:\n",
    "\n",
    "Example 1:\n",
    "Input: 18\n",
    "Output: Abundant Number\n",
    "Explanation: Divisors of 18 are 1,2,3,6,9. 1+2+3+6+9=21, Since 21 is greater than 18, 18 is an abundant number.\n",
    "\n",
    "Example 2:\n",
    "Input: 21\n",
    "Output: Not Abundant Number\n",
    "Explanation:Divisors of 21 are 1,3,7. 1+3+7=11, Since 11 is smaller than 21, 11 is not an abundant number.\n",
    "Definition: If the sum of divisors of a number is greater than the number then it is called abundant number."
   ]
  },
  {
   "cell_type": "code",
   "execution_count": 23,
   "id": "cb024b0b",
   "metadata": {},
   "outputs": [
    {
     "data": {
      "text/plain": [
       "True"
      ]
     },
     "execution_count": 23,
     "metadata": {},
     "output_type": "execute_result"
    }
   ],
   "source": [
    "def abundant(num):\n",
    "    sum = 0\n",
    "    for i in range(1,num):\n",
    "        if num % i == 0:\n",
    "            sum += i\n",
    "\n",
    "    return sum > num\n",
    "    \n",
    "\n",
    "num = 18\n",
    "abundant(num)\n",
    "\n"
   ]
  },
  {
   "cell_type": "markdown",
   "id": "51d2fd28",
   "metadata": {},
   "source": [
    "# Sum Of Digits of A Number\n",
    "Given an integer, find the sum of digits of that integer.\n",
    "\n",
    "Examples:\n",
    "\n",
    "Example 1:\n",
    "Input: N = 472\n",
    "Output: 13\n",
    "Explanation: The digits in the number are 4,7 and 2. Summing them up gives us a value of 13\n",
    "\n",
    "Example 2:\n",
    "Input: N = 102\n",
    "Output: 3\n",
    "Explanation: The digits in the number are 0, 1, and 2. Summing them up gives us a value of 3"
   ]
  },
  {
   "cell_type": "code",
   "execution_count": 24,
   "id": "344f7f71",
   "metadata": {},
   "outputs": [
    {
     "data": {
      "text/plain": [
       "13"
      ]
     },
     "execution_count": 24,
     "metadata": {},
     "output_type": "execute_result"
    }
   ],
   "source": [
    "def sumn(num):\n",
    "    sum = 0\n",
    "    while num>0:\n",
    "        a = num%10\n",
    "        sum += a\n",
    "        num = num//10\n",
    "    return sum\n",
    "\n",
    "num = 472\n",
    "sumn(num)"
   ]
  },
  {
   "cell_type": "markdown",
   "id": "2df176df",
   "metadata": {},
   "source": [
    "# Permutations in which N people can occupy R seats\n",
    "Find permutations in which n people can occupy r seats in a classroom.\n",
    "\n",
    "Examples:\n",
    "\n",
    "Example 1:\n",
    "Input: N = 5, r = 3\n",
    "Output: 60\n",
    "Explanation: To permute n people in r seats we have to find the value of n!/(n-r)!.The value of 5!/(5-3)! Is 60.\n",
    "\n",
    "Example 2:\n",
    "Input: N=6,r = 4.\n",
    "Output: 360"
   ]
  },
  {
   "cell_type": "code",
   "execution_count": 26,
   "id": "c8a78b90",
   "metadata": {},
   "outputs": [
    {
     "data": {
      "text/plain": [
       "360"
      ]
     },
     "execution_count": 26,
     "metadata": {},
     "output_type": "execute_result"
    }
   ],
   "source": [
    "def permutation(n,r):\n",
    "    ans = fect(n)//fect(n-r)\n",
    "    return ans\n",
    "\n",
    "n = 6\n",
    "r = 4\n",
    "\n",
    "permutation(n,r)"
   ]
  },
  {
   "cell_type": "markdown",
   "id": "b0178ae9",
   "metadata": {},
   "source": [
    "# Replace all the 0’s with 1 in a given integer\n",
    "You are given an integer. Your task is to replace all the zeros in the integer with ones.\n",
    "\n",
    "Examples:\n",
    "\n",
    "Example 1:\n",
    "Input: N = 102003\n",
    "Output: 112113\n",
    "Explanation: The 2nd,4th and 5th position from left contain 0.The resultant integer has replaced the 0’s in those  positions with 1.\n",
    "\n",
    "Example 2:\n",
    "Input:  204\n",
    "Output: 214\n",
    "Explanation: The 2nd position from left contain 0. The resultant integer has replaced the 0 in that position with 1."
   ]
  },
  {
   "cell_type": "code",
   "execution_count": 7,
   "id": "c2f60de5",
   "metadata": {},
   "outputs": [
    {
     "data": {
      "text/plain": [
       "112113"
      ]
     },
     "execution_count": 7,
     "metadata": {},
     "output_type": "execute_result"
    }
   ],
   "source": [
    "def zerotoone(n):\n",
    "    st = str(n)\n",
    "    res = []\n",
    "    for i in range(len(st)):\n",
    "        if st[i] == '0':\n",
    "            res.append('1')\n",
    "        else:\n",
    "            res.append(st[i])\n",
    "\n",
    "    return int(''.join(res))\n",
    "\n",
    "n = 102003\n",
    "zerotoone(n)\n"
   ]
  },
  {
   "cell_type": "markdown",
   "id": "c7517887",
   "metadata": {},
   "source": [
    "another approch:"
   ]
  },
  {
   "cell_type": "code",
   "execution_count": 8,
   "id": "1e5a191c",
   "metadata": {},
   "outputs": [
    {
     "data": {
      "text/plain": [
       "213419"
      ]
     },
     "execution_count": 8,
     "metadata": {},
     "output_type": "execute_result"
    }
   ],
   "source": [
    "def zeroreplace(n):\n",
    "    if n == 0:\n",
    "        return 1\n",
    "    \n",
    "    ans = 0\n",
    "    temp = 1\n",
    "\n",
    "    while n >0:\n",
    "        d = n%10\n",
    "        if d == 0:\n",
    "            d = 1\n",
    "        ans = temp*d + ans\n",
    "        n = n//10\n",
    "        temp = temp * 10\n",
    "    return ans\n",
    "\n",
    "n = 203409\n",
    "\n",
    "zeroreplace(n)"
   ]
  },
  {
   "cell_type": "markdown",
   "id": "c5ea6e80",
   "metadata": {},
   "source": [
    "# Express given number as Sum of Two Prime Numbers\n",
    "Given a number n, express the number as a sum of 2 prime numbers.\n",
    "\n",
    "Examples:\n",
    "\n",
    "Example 1:\n",
    "Input : N = 74\n",
    "Output : True . \n",
    "Explanation: 74 can be expressed as 71 + 3 and both are prime numbers. \n",
    "\n",
    "Example 2:\n",
    "Input : N = 11\n",
    "Output : False. \n",
    "Explanation: 11 cannot be expressed as sum of two prime numbers."
   ]
  },
  {
   "cell_type": "code",
   "execution_count": 10,
   "id": "e23ab36b",
   "metadata": {},
   "outputs": [
    {
     "data": {
      "text/plain": [
       "False"
      ]
     },
     "execution_count": 10,
     "metadata": {},
     "output_type": "execute_result"
    }
   ],
   "source": [
    "def prime(n):\n",
    "    if n<1:\n",
    "        return False\n",
    "    for i in range(2,int(n**.5 + 1)):\n",
    "        if n%i == 0:\n",
    "            return False\n",
    "    return True\n",
    "\n",
    "def check_prime(N):\n",
    "    for i in range(2,N//2+1):\n",
    "        if prime(i) and prime(N-i):\n",
    "            return True\n",
    "    return False\n",
    "\n",
    "N= 11\n",
    "check_prime(N)\n",
    "    \n",
    "           \n",
    "\n"
   ]
  },
  {
   "attachments": {
    "image.png": {
     "image/png": "[encoded data removed]"
    }
   },
   "cell_type": "markdown",
   "id": "40733ad3",
   "metadata": {},
   "source": [
    "#Program to Find Roots of a quadratic equation\n",
    "The standard form of a quadratic equation is:\n",
    "\n",
    "ax2 + bx + c = 0, where a, b and c are real numbers and a != 0\n",
    "\n",
    "You have given a, b, c of the equation, you have found the roots of the equation.\n",
    "\n",
    "Examples:\n",
    "\n",
    "Example 1:\n",
    "Input: a = 1, b = -3, c = -10\n",
    "Output: Roots are real and different, i.e(5 , -2).\n",
    "\n",
    "Example2:\n",
    "\n",
    "Input: a = 1, b = 1, c = 1\n",
    "Output: Roots are complex, i.e-(-0.5+i1.732 , -0.5-i1.732).\n",
    "![image.png](attachment:image.png)"
   ]
  },
  {
   "cell_type": "code",
   "execution_count": null,
   "id": "1a950a2e",
   "metadata": {},
   "outputs": [],
   "source": []
  }
 ],
 "metadata": {
  "kernelspec": {
   "display_name": "Python 3",
   "language": "python",
   "name": "python3"
  },
  "language_info": {
   "codemirror_mode": {
    "name": "ipython",
    "version": 3
   },
   "file_extension": ".py",
   "mimetype": "text/x-python",
   "name": "python",
   "nbconvert_exporter": "python",
   "pygments_lexer": "ipython3",
   "version": "3.13.3"
  }
 },
 "nbformat": 4,
 "nbformat_minor": 5
}
